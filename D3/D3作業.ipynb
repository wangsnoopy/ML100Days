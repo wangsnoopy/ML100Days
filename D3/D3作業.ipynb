{
 "cells": [
  {
   "cell_type": "markdown",
   "metadata": {},
   "source": [
    "1.專案目標:AI賦能的藥物開發\n",
    "  需要解決的問題:學科交叉人才稀缺、數據獲取難、商業模式的選擇、開發強AI，才能更好地體現出AI在藥物開發中的價值\n",
    "2.使用技術:深度學習:對海量RNA組學數據進行分析開發靶向RNA剪接過程的小分子或者大分子藥物、全基因功能網絡分析:尋找新的靶點和組合、數據分析:越過微生態藥階段直接找到背後的小分子藥物\n",
    "3.資料來源:機器人之心-中經合李帥：AI賦能藥物研發背後的邏輯"
   ]
  }
 ],
 "metadata": {
  "kernelspec": {
   "display_name": "Python 3",
   "language": "python",
   "name": "python3"
  },
  "language_info": {
   "codemirror_mode": {
    "name": "ipython",
    "version": 3
   },
   "file_extension": ".py",
   "mimetype": "text/x-python",
   "name": "python",
   "nbconvert_exporter": "python",
   "pygments_lexer": "ipython3",
   "version": "3.7.6"
  }
 },
 "nbformat": 4,
 "nbformat_minor": 4
}
