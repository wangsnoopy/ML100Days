{
 "cells": [
  {
   "cell_type": "markdown",
   "metadata": {},
   "source": [
    "請找出一個你認為機器學習可以發光發熱的領域並闡述原因?\n",
    "  身為機械系的學生我認為機器學習可用於機械設備管理上面。現今的機械設備不同以往，產業大量運用自動化機械，都是為了提高產線的產品良率及製造效能。所以對於機械設備上要擁有更高的掌握度，就需要有高效能、更準確的量測系統。\n",
    "  隨著工廠製程不斷細微化，其製程動作行為的要求也越來越高，經由機器學習來管控設備運作流程，偵測機台設備問題，來幫助產線提升製造效能及維持產品的一致性。舉凡一些較為常見的問題，例如:馬達驅動異常、機械異常顫抖、機械磨損.....等等。\n",
    "  透過機器學習智能監控系統就能即時偵測動態機械之動作訊號，即使動作訊號僅發生微小的異常，即可預先判別得知機械是否即將會產生故障特徵，以供使用者有充足的時間準備更換料件或產線的調度管理，避免無預警的故障產生影響產線作業，造成損失，亦可有效的預防機械在異常的情況下運作衍伸出的品質問題。"
   ]
  }
 ],
 "metadata": {
  "kernelspec": {
   "display_name": "Python 3",
   "language": "python",
   "name": "python3"
  },
  "language_info": {
   "codemirror_mode": {
    "name": "ipython",
    "version": 3
   },
   "file_extension": ".py",
   "mimetype": "text/x-python",
   "name": "python",
   "nbconvert_exporter": "python",
   "pygments_lexer": "ipython3",
   "version": "3.7.6"
  }
 },
 "nbformat": 4,
 "nbformat_minor": 4
}
